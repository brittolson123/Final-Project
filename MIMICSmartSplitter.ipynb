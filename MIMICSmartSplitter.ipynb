{
  "nbformat": 4,
  "nbformat_minor": 0,
  "metadata": {
    "colab": {
      "provenance": [],
      "authorship_tag": "ABX9TyOTvZMKWcA1KviJz2+XIXrx",
      "include_colab_link": true
    },
    "kernelspec": {
      "name": "python3",
      "display_name": "Python 3"
    },
    "language_info": {
      "name": "python"
    }
  },
  "cells": [
    {
      "cell_type": "markdown",
      "metadata": {
        "id": "view-in-github",
        "colab_type": "text"
      },
      "source": [
        "<a href=\"https://colab.research.google.com/github/brittolson123/Final-Project/blob/master/MIMICSmartSplitter.ipynb\" target=\"_parent\"><img src=\"https://colab.research.google.com/assets/colab-badge.svg\" alt=\"Open In Colab\"/></a>"
      ]
    },
    {
      "cell_type": "code",
      "execution_count": 1,
      "metadata": {
        "colab": {
          "base_uri": "https://localhost:8080/"
        },
        "id": "5tT4UT7PhOg_",
        "outputId": "c9e3f760-9fde-4238-ee67-e8d6fd41d86b"
      },
      "outputs": [
        {
          "output_type": "stream",
          "name": "stdout",
          "text": [
            "Mounted at /content/drive\n"
          ]
        }
      ],
      "source": [
        "from google.colab import drive\n",
        "drive.mount('/content/drive')"
      ]
    },
    {
      "cell_type": "code",
      "source": [
        "import os, sys\n",
        "\n",
        "\"\"\"Split the MIMIC III document for every 50 Mo (about) without cutting a note\"\"\"\n",
        "dirchunks = \"./data/chunkssmall/\"\n",
        "if not os.path.exists('data'):\n",
        "    os.makedirs('data')\n",
        "if not os.path.exists('data/chunkssmall'):\n",
        "    os.makedirs('data/chunkssmall')\n",
        "if not os.path.exists('data/outputchunkssmall'):\n",
        "    os.makedirs('data/outputchunkssmall')"
      ],
      "metadata": {
        "id": "L5KMuN-uj3SM"
      },
      "execution_count": 2,
      "outputs": []
    },
    {
      "cell_type": "code",
      "source": [
        "import os, sys\n",
        "\n",
        "\"\"\"Split the MIMIC III document for every 50 Mo (about) without cutting a note\"\"\"\n",
        "dirchunkssmall = '/content/drive/MyDrive/CS598-DLH-Final-Project/data/chunkssmall/'\n",
        "diroutputchunkssmall = '/content/drive/MyDrive/CS598-DLH-Final-Project/data/outputchunkssmall/'\n",
        "ORIGINAL_OUPUT = '/content/drive/MyDrive/CS598-DLH-Final-Project/Data-Preprocessing/Output-Data/output.csv'\n",
        "sizeInMo = 50\n",
        "i = 1\n",
        "make_new_file = True\n",
        "outputFile = \"\"\n",
        "with open(ORIGINAL_OUPUT) as fread:\n",
        "    fread.readline() # avoid first line\n",
        "    for line in fread.readlines():\n",
        "        count_comma = line.count(',')\n",
        "        count_quote = line.count('\"')\n",
        "        if count_comma >= 10 and count_quote >= 1:\n",
        "            if make_new_file :\n",
        "                make_new_file = False\n",
        "                outputFile = dirchunkssmall+str(i)+\".csv\"\n",
        "        with open(outputFile, 'a') as fwrite:\n",
        "            fwrite.write(line)\n",
        "        if os.path.getsize(outputFile) > sizeInMo*1000000 and make_new_file is False:\n",
        "            i += 1\n",
        "            make_new_file = True"
      ],
      "metadata": {
        "id": "YoXCVtQQhuvH"
      },
      "execution_count": null,
      "outputs": []
    }
  ]
}